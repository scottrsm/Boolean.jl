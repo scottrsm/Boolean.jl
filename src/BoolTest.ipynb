{
 "cells": [
  {
   "cell_type": "code",
   "execution_count": 1,
   "id": "f2a13f18-fb5b-4483-bfbc-7b7221a149bd",
   "metadata": {},
   "outputs": [],
   "source": [
    "using Revise"
   ]
  },
  {
   "cell_type": "code",
   "execution_count": 2,
   "id": "9fa098b2-2258-4a69-80b6-54af2ad33dbb",
   "metadata": {},
   "outputs": [],
   "source": [
    "using Boolean"
   ]
  },
  {
   "cell_type": "code",
   "execution_count": 3,
   "id": "19bfd268-0303-4cb4-b67f-d0ffc207b235",
   "metadata": {},
   "outputs": [
    {
     "name": "stdout",
     "output_type": "stream",
     "text": [
      "x2 * (x3 * (x1 + x2))\n"
     ]
    }
   ],
   "source": [
    "init_logic(3)\n",
    "println(simplifyLogic(Meta.parse(\"((x1 + x2) * x3) * (x1 * 0 + x2 * 1)\")))"
   ]
  },
  {
   "cell_type": "code",
   "execution_count": 4,
   "id": "84bbd2b9-97d7-4dac-ac4e-d4548951c06b",
   "metadata": {},
   "outputs": [
    {
     "data": {
      "text/plain": [
       "Formula    = z1 + z2\n",
       "Variable   = z\n",
       "Size       = 3\n",
       "Bit vector = Bool[0, 1, 1, 1, 0, 1, 1, 1]\n"
      ]
     },
     "execution_count": 4,
     "metadata": {},
     "output_type": "execute_result"
    }
   ],
   "source": [
    "create_bool_rep(\"z1 + z2\")"
   ]
  },
  {
   "cell_type": "code",
   "execution_count": 5,
   "id": "31e62bd3-c168-4138-8bb1-9d46c04bd568",
   "metadata": {},
   "outputs": [
    {
     "data": {
      "text/plain": [
       ":(x1 * ~x1)"
      ]
     },
     "execution_count": 5,
     "metadata": {},
     "output_type": "execute_result"
    }
   ],
   "source": [
    "z = simplifyLogic(Meta.parse(\"x1 * (1 ⊕ x1)\"))"
   ]
  },
  {
   "cell_type": "code",
   "execution_count": 6,
   "id": "ff14220b-b60a-49f7-8975-df24c763d28c",
   "metadata": {},
   "outputs": [
    {
     "data": {
      "text/plain": [
       "2-element Vector{Any}:\n",
       " :~\n",
       " :x1"
      ]
     },
     "execution_count": 6,
     "metadata": {},
     "output_type": "execute_result"
    }
   ],
   "source": [
    "z.args[3].args"
   ]
  },
  {
   "cell_type": "code",
   "execution_count": 7,
   "id": "2b87a9b1-9ac5-4354-be4b-adde794efe0c",
   "metadata": {},
   "outputs": [
    {
     "data": {
      "text/plain": [
       "8×3 BitMatrix:\n",
       " 0  0  0\n",
       " 1  0  0\n",
       " 0  1  0\n",
       " 1  1  0\n",
       " 0  0  1\n",
       " 1  0  1\n",
       " 0  1  1\n",
       " 1  1  1"
      ]
     },
     "execution_count": 7,
     "metadata": {},
     "output_type": "execute_result"
    }
   ],
   "source": [
    "BitArray([((i-1) >> (j-1)) & 1  for i in 1:2^3, j in 1:3])"
   ]
  },
  {
   "cell_type": "code",
   "execution_count": 8,
   "id": "ea86a076-d021-44aa-bb76-18b27dc271ed",
   "metadata": {},
   "outputs": [
    {
     "data": {
      "text/plain": [
       ":(z3 ⊕ (z1 ⊕ z3))"
      ]
     },
     "execution_count": 8,
     "metadata": {},
     "output_type": "execute_result"
    }
   ],
   "source": [
    "simplifyLogic(Meta.parse(\"(z1 ⊕ z3) ⊕ (0 ⊕ z3)\"))"
   ]
  },
  {
   "cell_type": "code",
   "execution_count": 9,
   "id": "d7412775-f195-4486-8269-8dee059d4070",
   "metadata": {},
   "outputs": [
    {
     "data": {
      "text/plain": [
       ":(x2 * (x3 * (x1 + x2)))"
      ]
     },
     "execution_count": 9,
     "metadata": {},
     "output_type": "execute_result"
    }
   ],
   "source": [
    "simplifyLogic(Meta.parse(\"((x1 + x2) * x3) * (x1 * 0 + x2 * 1)\"))"
   ]
  },
  {
   "cell_type": "code",
   "execution_count": 10,
   "id": "c2112c54-3233-4800-8404-87c021ef2bdf",
   "metadata": {},
   "outputs": [
    {
     "data": {
      "text/plain": [
       ":x1"
      ]
     },
     "execution_count": 10,
     "metadata": {},
     "output_type": "execute_result"
    }
   ],
   "source": [
    "simplifyLogic(Meta.parse(\"0 + x1\"))"
   ]
  },
  {
   "cell_type": "code",
   "execution_count": 11,
   "id": "fd6bf430-9ce0-49bd-a2dc-f76eff06e3b5",
   "metadata": {},
   "outputs": [
    {
     "data": {
      "text/plain": [
       ":x1"
      ]
     },
     "execution_count": 11,
     "metadata": {},
     "output_type": "execute_result"
    }
   ],
   "source": [
    "simplifyLogic(Meta.parse(\"x1 * (x1 + 0)\")) "
   ]
  },
  {
   "cell_type": "code",
   "execution_count": 12,
   "id": "bedede2c-153b-4225-85f4-16496ba71d9c",
   "metadata": {},
   "outputs": [
    {
     "name": "stdout",
     "output_type": "stream",
     "text": [
      "\n",
      "Examining the 'f2' formula:\n",
      "Formula    = (z1 * z3) ⊕ (z2 * z3)\n",
      "Variable   = z\n",
      "Size       = 3\n",
      "Bit vector = Bool[0, 0, 0, 0, 0, 1, 1, 0]\n",
      "\n",
      "Number of non-zero bits: 2\n",
      "First 5 (at most 5) variable values that lead to a 'true' value are:\n",
      "z1, z2, z3):\n",
      "(1, 0, 1)\n",
      "(0, 1, 1)\n",
      "\n",
      "Examining the 'zero' formula:\n",
      "Formula    = ((x1 + x2) * x3) ⊕ (x1 * x3 + x2 * x3)\n",
      "Variable   = x\n",
      "Size       = 3\n",
      "Bit vector = Bool[0, 0, 0, 0, 0, 0, 0, 0]\n",
      "\n",
      "Number of non-zero bits: 0\n",
      "First 5 (at most 5) variable values that lead to a 'true' value are:\n"
     ]
    },
    {
     "data": {
      "text/plain": [
       "0"
      ]
     },
     "execution_count": 12,
     "metadata": {},
     "output_type": "execute_result"
    }
   ],
   "source": [
    "init_logic(3)\n",
    "\n",
    "f1 = \"x1 + x2 * x3\"\n",
    "f2 = \"(z1 * z3) ⊕ (z2 * z3)\"\n",
    "zero = \"((x1 + x2) * x3) ⊕ (x1 * x3 + x2 * x3)\"\n",
    "\n",
    "println(\"\\nExamining the 'f2' formula:\")\n",
    "f2e = create_bool_rep(f2)\n",
    "println(f2e)\n",
    "print(\"Number of non-zero bits: \")\n",
    "println(logicCount(f2e))\n",
    "println(\"First 5 (at most 5) variable values that lead to a 'true' value are:\")\n",
    "println(\"$(f2e.var)1, $(f2e.var)2, $(f2e.var)3):\")\n",
    "res = nonZero(f2e, head=5)\n",
    "print(res)\n",
    "\n",
    "println(\"\\nExamining the 'zero' formula:\")\n",
    "zeroe = create_bool_rep(zero)\n",
    "println(zeroe)\n",
    "print(\"Number of non-zero bits: \")\n",
    "println(logicCount(zeroe))\n",
    "println(\"First 5 (at most 5) variable values that lead to a 'true' value are:\")\n",
    "res = nonZero(zeroe, head=5)\n",
    "typeof(res)\n",
    "res\n",
    "logicCount(zeroe)"
   ]
  },
  {
   "cell_type": "code",
   "execution_count": 13,
   "id": "470f1113-77b0-4d00-a918-971e0b7421c7",
   "metadata": {},
   "outputs": [
    {
     "data": {
      "text/plain": [
       "Formula    = (z1 + z2) * z3\n",
       "Variable   = z\n",
       "Size       = 3\n",
       "Bit vector = Bool[0, 0, 0, 0, 0, 1, 1, 1]\n"
      ]
     },
     "execution_count": 13,
     "metadata": {},
     "output_type": "execute_result"
    }
   ],
   "source": [
    "create_bool_rep(\"(z1 + z2) * z3\")"
   ]
  },
  {
   "cell_type": "code",
   "execution_count": 14,
   "id": "2dc08967-3bbe-4bad-8d59-3bafd3f49d6c",
   "metadata": {},
   "outputs": [
    {
     "data": {
      "text/plain": [
       "true"
      ]
     },
     "execution_count": 14,
     "metadata": {},
     "output_type": "execute_result"
    }
   ],
   "source": [
    "isEquiv(f1, f1)"
   ]
  },
  {
   "cell_type": "code",
   "execution_count": 15,
   "id": "b8614e0f-ca96-49af-b5af-d44b42a55e57",
   "metadata": {},
   "outputs": [
    {
     "data": {
      "text/plain": [
       ":(((x1 + x2) * x3) * (x1 * 0 + x2 * 1))"
      ]
     },
     "execution_count": 15,
     "metadata": {},
     "output_type": "execute_result"
    }
   ],
   "source": [
    "Meta.parse(\"((x1 + x2) * x3) * (x1 * 0 + x2 * 1)\")"
   ]
  },
  {
   "cell_type": "code",
   "execution_count": 16,
   "id": "c6a97024-a566-4787-a117-2f5d4d648a3b",
   "metadata": {},
   "outputs": [
    {
     "data": {
      "text/plain": [
       ":(x2 * (x3 * (x1 + x2)))"
      ]
     },
     "execution_count": 16,
     "metadata": {},
     "output_type": "execute_result"
    }
   ],
   "source": [
    "simplifyLogic(Meta.parse(\"((x1 + x2) * x3) * (x1 * 0 + x2 * 1)\"))"
   ]
  },
  {
   "cell_type": "code",
   "execution_count": 17,
   "id": "9ab3d61a-8fdc-4523-b47c-2ab60c57aa67",
   "metadata": {},
   "outputs": [
    {
     "data": {
      "text/plain": [
       "\"x2 * x3\""
      ]
     },
     "execution_count": 17,
     "metadata": {},
     "output_type": "execute_result"
    }
   ],
   "source": [
    "frm=\"((1 + x2) * x3) * x2\"\n",
    "ee = simplifyLogic(Meta.parse(frm))\n",
    "string(ee)"
   ]
  },
  {
   "cell_type": "code",
   "execution_count": 18,
   "id": "dd62a3b1-dfb4-46e3-8453-db4be74bc6b7",
   "metadata": {},
   "outputs": [
    {
     "data": {
      "text/plain": [
       "\"11010000\""
      ]
     },
     "execution_count": 18,
     "metadata": {},
     "output_type": "execute_result"
    }
   ],
   "source": [
    "    x = reverse(bitstring(UInt8(11)))"
   ]
  },
  {
   "cell_type": "code",
   "execution_count": 19,
   "id": "c7dfa966-abc2-42eb-aa92-73e796a0d946",
   "metadata": {},
   "outputs": [
    {
     "data": {
      "text/plain": [
       ":(~x1)"
      ]
     },
     "execution_count": 19,
     "metadata": {},
     "output_type": "execute_result"
    }
   ],
   "source": [
    "simplifyLogic(Meta.parse(\"x1 ⊕ 0 ⊕ x1 ⊕ 1 ⊕ x1\"))"
   ]
  },
  {
   "cell_type": "markdown",
   "id": "a54b89bf-0ea8-49cc-8446-b331898e5d20",
   "metadata": {},
   "source": [
    "### Operator Precedence: XOR lower than \"*\" (Both left associative)"
   ]
  },
  {
   "cell_type": "code",
   "execution_count": 20,
   "id": "91a7144d-5948-4bee-b9f1-469f888f0b18",
   "metadata": {},
   "outputs": [
    {
     "data": {
      "text/plain": [
       "1"
      ]
     },
     "execution_count": 20,
     "metadata": {},
     "output_type": "execute_result"
    }
   ],
   "source": [
    "simplifyLogic(Meta.parse(\"1 ⊕ 1 * 0\"))"
   ]
  },
  {
   "cell_type": "code",
   "execution_count": 21,
   "id": "5704181a-d7a9-4f8f-bc99-c7912530c60b",
   "metadata": {},
   "outputs": [
    {
     "data": {
      "text/plain": [
       "0"
      ]
     },
     "execution_count": 21,
     "metadata": {},
     "output_type": "execute_result"
    }
   ],
   "source": [
    "simplifyLogic(Meta.parse(\"(1 ⊕ 1) * 0\"))"
   ]
  },
  {
   "cell_type": "markdown",
   "id": "ed3a3d27-2863-4c01-9df1-5b39954f7790",
   "metadata": {},
   "source": [
    "### Operator Precedence: XOR same as \"+\" (Both left associative)"
   ]
  },
  {
   "cell_type": "markdown",
   "id": "fc0eed5e-a0fe-40cd-b68f-e42424fb46b9",
   "metadata": {},
   "source": [
    "#### Is \"+\" higher than XOR: NO"
   ]
  },
  {
   "cell_type": "code",
   "execution_count": 22,
   "id": "0ff579ae-0a3d-44e3-8eb8-ac887d76e287",
   "metadata": {},
   "outputs": [
    {
     "data": {
      "text/plain": [
       "1"
      ]
     },
     "execution_count": 22,
     "metadata": {},
     "output_type": "execute_result"
    }
   ],
   "source": [
    "simplifyLogic(Meta.parse(\"1 ⊕ 1 + 1\"))"
   ]
  },
  {
   "cell_type": "code",
   "execution_count": 23,
   "id": "7d7dae43-4984-4eae-b1b2-7a61f6a25ca9",
   "metadata": {},
   "outputs": [
    {
     "data": {
      "text/plain": [
       "0"
      ]
     },
     "execution_count": 23,
     "metadata": {},
     "output_type": "execute_result"
    }
   ],
   "source": [
    "simplifyLogic(Meta.parse(\"1 ⊕ (1 + 1)\"))"
   ]
  },
  {
   "cell_type": "markdown",
   "id": "f95d19a6-ba7b-446a-a873-42442b2ac1a1",
   "metadata": {},
   "source": [
    "#### Is XOR higher than \"+\": NO"
   ]
  },
  {
   "cell_type": "code",
   "execution_count": 24,
   "id": "6b127376-fc19-4b54-9f79-3ab129580a1c",
   "metadata": {},
   "outputs": [
    {
     "data": {
      "text/plain": [
       "0"
      ]
     },
     "execution_count": 24,
     "metadata": {},
     "output_type": "execute_result"
    }
   ],
   "source": [
    "simplifyLogic(Meta.parse(\"1 + 1 ⊕ 1\"))"
   ]
  },
  {
   "cell_type": "code",
   "execution_count": 25,
   "id": "ae8122ce-ab91-401a-a90a-fc196b99ea14",
   "metadata": {},
   "outputs": [
    {
     "data": {
      "text/plain": [
       "1"
      ]
     },
     "execution_count": 25,
     "metadata": {},
     "output_type": "execute_result"
    }
   ],
   "source": [
    "simplifyLogic(Meta.parse(\"1 + (1 ⊕ 1)\"))"
   ]
  },
  {
   "cell_type": "code",
   "execution_count": null,
   "id": "8738fe01-4be1-4c8d-870e-7a971cc0a16c",
   "metadata": {},
   "outputs": [],
   "source": []
  },
  {
   "cell_type": "markdown",
   "id": "a5ae37d6-f7fb-4b29-98f1-a3ba43b2c74a",
   "metadata": {},
   "source": [
    "### Extending the Function nonZero\n",
    "For future improvement of the package. "
   ]
  },
  {
   "cell_type": "code",
   "execution_count": 26,
   "id": "bbf81ecc-548d-41bb-bf1f-2ef2151727c6",
   "metadata": {},
   "outputs": [
    {
     "name": "stdout",
     "output_type": "stream",
     "text": [
      "Dict(\"x5\" => \"x2\", \"x4\" => \"x1\")\n",
      "\tx = 00000\n",
      "00000000\n",
      "\tx = 10000\n",
      "10000000\n",
      "\tx = 01000\n",
      "eqn = x1 * ~x2\n",
      "BitMatrix\n",
      "(1, 0)\n",
      "\tx = 11000\n",
      "eqn = x1\n",
      "BitMatrix\n",
      "(1, 0)\n",
      "(1, 1)\n",
      "\tx = 00100\n",
      "00100000\n",
      "\tx = 10100\n",
      "10100000\n",
      "\tx = 01100\n",
      "eqn = ~x2\n",
      "BitMatrix\n",
      "(0, 0)\n",
      "(1, 0)\n",
      "\tx = 11100\n",
      "11100000\n"
     ]
    }
   ],
   "source": [
    "# Intension to take a formula and find inputs that return 1.\n",
    "form=\"(x1 + (x2 * ~x5)) * (x3 + x4) +  ~x2\"\n",
    "\n",
    "# Total number of variables.\n",
    "N=5\n",
    "NV=3\n",
    "\n",
    "# Init the logic system for (N-NV) variables.\n",
    "init_logic(N-NV)\n",
    "\n",
    "x = Vector{Int64}(undef, N)\n",
    "\n",
    "# For each of the first `NV` variables\n",
    "# loop through all values of `0` and `1`s.\n",
    "# For each set of NV values, substitute these into `form`\n",
    "# and then simply the formula.\n",
    "# Remap the variables that remain to 1 to (N-NV).\n",
    "\n",
    "d = Dict{String,String}()\n",
    "for i in (NV+1):N\n",
    "    d[\"x$i\"] = \"x$(i-NV)\"\n",
    "end\n",
    "\n",
    "println(d)\n",
    "\n",
    "for i in 0:(2^NV-1)\n",
    "    x = reverse(bitstring(UInt8(i)))\n",
    "    println(\"\\tx = $(x[1:N])\")\n",
    "    frm = form\n",
    "    firstBits = x[1:NV]\n",
    "    for j in 1:NV\n",
    "        frm = replace(frm, \"x$j\" => x[j])\n",
    "    end\n",
    "    \n",
    "    eqn = simplifyLogic(Meta.parse(frm))\n",
    "    if eqn == 0 || eqn == 1\n",
    "        if eqn == 1\n",
    "            println(x)\n",
    "        end\n",
    "    else\n",
    "        eqn = string(eqn)\n",
    "        # We need to convert the vars over to 1:(N-NV). FIXME\n",
    "        for k in keys(d)\n",
    "            eqn = replace(eqn, k => d[k])\n",
    "        end\n",
    "        println(\"eqn = $eqn\")\n",
    "        eqnb = create_bool_rep(string(eqn))\n",
    "        if logicCount(eqnb) != 0\n",
    "            res = nonZero(eqnb, head=5)\n",
    "            println(typeof(res))\n",
    "            print(string(res))\n",
    "        end\n",
    "    end\n",
    "end"
   ]
  },
  {
   "cell_type": "code",
   "execution_count": 27,
   "id": "4579d37a-9e8b-4e86-9f55-0de1b6f31314",
   "metadata": {},
   "outputs": [
    {
     "data": {
      "text/plain": [
       ":(⊕(x1, x2, x3, x4))"
      ]
     },
     "execution_count": 27,
     "metadata": {},
     "output_type": "execute_result"
    }
   ],
   "source": [
    "ex = simplifyLogic(Boolean.fixXorParseTree(Meta.parse(\"x1 ⊕ x2 ⊕ x3 ⊕ x4\")))"
   ]
  },
  {
   "cell_type": "code",
   "execution_count": 28,
   "id": "f156e801-b184-450b-a164-c4a851f3eacc",
   "metadata": {},
   "outputs": [
    {
     "data": {
      "text/plain": [
       ":(((x1 ⊕ x2) ⊕ x3) ⊕ x4)"
      ]
     },
     "execution_count": 28,
     "metadata": {},
     "output_type": "execute_result"
    }
   ],
   "source": [
    "ex = Meta.parse(\"x1 ⊕ x2 ⊕ x3 ⊕ x4\")"
   ]
  },
  {
   "cell_type": "code",
   "execution_count": 29,
   "id": "a759d81b-784f-43c4-95de-fd234b18580e",
   "metadata": {},
   "outputs": [
    {
     "data": {
      "text/plain": [
       ":((x1 ⊕ x2) ⊕ x3)"
      ]
     },
     "execution_count": 29,
     "metadata": {},
     "output_type": "execute_result"
    }
   ],
   "source": [
    "ex.args[2]"
   ]
  },
  {
   "cell_type": "code",
   "execution_count": 30,
   "id": "8618bc58-de16-4515-a86c-3a0090aa3936",
   "metadata": {},
   "outputs": [
    {
     "data": {
      "text/plain": [
       ":(⊕(x1, x2, x3, x4))"
      ]
     },
     "execution_count": 30,
     "metadata": {},
     "output_type": "execute_result"
    }
   ],
   "source": [
    "z = Boolean.fixXorParseTree(ex)"
   ]
  },
  {
   "cell_type": "code",
   "execution_count": 31,
   "id": "ef5b22df-f2db-41a8-b624-ad2594c4c94b",
   "metadata": {},
   "outputs": [
    {
     "data": {
      "text/plain": [
       ":call"
      ]
     },
     "execution_count": 31,
     "metadata": {},
     "output_type": "execute_result"
    }
   ],
   "source": [
    "z.head"
   ]
  },
  {
   "cell_type": "code",
   "execution_count": 32,
   "id": "72334d5b-2ceb-4253-be19-a8360472736f",
   "metadata": {},
   "outputs": [
    {
     "data": {
      "text/plain": [
       "5-element Vector{Any}:\n",
       " :⊕\n",
       " :x1\n",
       " :x2\n",
       " :x3\n",
       " :x4"
      ]
     },
     "execution_count": 32,
     "metadata": {},
     "output_type": "execute_result"
    }
   ],
   "source": [
    "z.args"
   ]
  },
  {
   "cell_type": "code",
   "execution_count": 33,
   "id": "0b4bbd17-f7f6-4c8f-a2f0-736f7f92e9e1",
   "metadata": {},
   "outputs": [
    {
     "data": {
      "text/plain": [
       ":(⊕(x1, x2, x3, x4))"
      ]
     },
     "execution_count": 33,
     "metadata": {},
     "output_type": "execute_result"
    }
   ],
   "source": [
    "simplifyLogic(z)"
   ]
  },
  {
   "cell_type": "code",
   "execution_count": 34,
   "id": "a7e776c1-c310-4641-8914-3ef1fc813c6e",
   "metadata": {},
   "outputs": [
    {
     "data": {
      "text/plain": [
       ":⊕"
      ]
     },
     "execution_count": 34,
     "metadata": {},
     "output_type": "execute_result"
    }
   ],
   "source": [
    "ex.args[2].args[1]"
   ]
  },
  {
   "cell_type": "code",
   "execution_count": 35,
   "id": "3518bbe1-5ffd-4c8f-be0a-25706aa760d6",
   "metadata": {},
   "outputs": [
    {
     "data": {
      "text/plain": [
       ":(x1 + x1 + x1)"
      ]
     },
     "execution_count": 35,
     "metadata": {},
     "output_type": "execute_result"
    }
   ],
   "source": [
    "ex = Meta.parse(\"x1 + x1 + x1\")"
   ]
  },
  {
   "cell_type": "code",
   "execution_count": 36,
   "id": "d8ba4053-874d-4ea0-af58-8138052b87f4",
   "metadata": {},
   "outputs": [
    {
     "data": {
      "text/plain": [
       "4-element Vector{Any}:\n",
       " :+\n",
       " :x1\n",
       " :x1\n",
       " :x1"
      ]
     },
     "execution_count": 36,
     "metadata": {},
     "output_type": "execute_result"
    }
   ],
   "source": [
    "ex.args"
   ]
  },
  {
   "cell_type": "code",
   "execution_count": null,
   "id": "f56f226b-73ce-401f-8d10-ae8cdfa19c64",
   "metadata": {},
   "outputs": [],
   "source": []
  },
  {
   "cell_type": "code",
   "execution_count": 37,
   "id": "1cc33590-2492-4f7c-a246-483b05d29237",
   "metadata": {},
   "outputs": [
    {
     "data": {
      "text/plain": [
       ":(((x1 ⊕ x2) ⊕ x3) ⊕ x4)"
      ]
     },
     "execution_count": 37,
     "metadata": {},
     "output_type": "execute_result"
    }
   ],
   "source": [
    "ex = Meta.parse(\"x1 ⊕ x2 ⊕ x3 ⊕ x4\")"
   ]
  },
  {
   "cell_type": "code",
   "execution_count": 38,
   "id": "a548ded5-b614-4716-a7cb-8fde3f4da811",
   "metadata": {},
   "outputs": [
    {
     "data": {
      "text/plain": [
       ":(⊕(x1, x2, x3, x4))"
      ]
     },
     "execution_count": 38,
     "metadata": {},
     "output_type": "execute_result"
    }
   ],
   "source": [
    "z = Boolean.fixXorParseTree(ex)"
   ]
  },
  {
   "cell_type": "code",
   "execution_count": 39,
   "id": "40c7840b-e93f-47bb-9d1f-34b72643e82b",
   "metadata": {},
   "outputs": [
    {
     "data": {
      "text/plain": [
       ":((x1 ⊕ x2) ⊕ x3)"
      ]
     },
     "execution_count": 39,
     "metadata": {},
     "output_type": "execute_result"
    }
   ],
   "source": [
    "ex = Meta.parse(\"x1 ⊕ x2 ⊕ x3\")"
   ]
  },
  {
   "cell_type": "code",
   "execution_count": 40,
   "id": "c923af5a-09a5-4ab7-a678-cfa4f3411f79",
   "metadata": {},
   "outputs": [
    {
     "data": {
      "text/plain": [
       ":(⊕(x1, x2, x3))"
      ]
     },
     "execution_count": 40,
     "metadata": {},
     "output_type": "execute_result"
    }
   ],
   "source": [
    "zz = Boolean.fixXorParseTree(ex)"
   ]
  },
  {
   "cell_type": "code",
   "execution_count": 41,
   "id": "2f39f633-f2f1-459a-994f-be2c543248c8",
   "metadata": {},
   "outputs": [
    {
     "data": {
      "text/plain": [
       "4-element Vector{Any}:\n",
       " :⊕\n",
       " :x1\n",
       " :x2\n",
       " :x3"
      ]
     },
     "execution_count": 41,
     "metadata": {},
     "output_type": "execute_result"
    }
   ],
   "source": [
    "zz.args"
   ]
  },
  {
   "cell_type": "code",
   "execution_count": 42,
   "id": "0e9e1018-7da4-40ac-8756-83135ddf9fe4",
   "metadata": {},
   "outputs": [
    {
     "data": {
      "text/plain": [
       ":(⊕(x1, x2, x3))"
      ]
     },
     "execution_count": 42,
     "metadata": {},
     "output_type": "execute_result"
    }
   ],
   "source": [
    "z = Boolean.fixXorParseTree(ex)"
   ]
  },
  {
   "cell_type": "code",
   "execution_count": 43,
   "id": "aec6495a-3f0d-44dd-bbc9-51cddf354576",
   "metadata": {},
   "outputs": [
    {
     "data": {
      "text/plain": [
       ":call"
      ]
     },
     "execution_count": 43,
     "metadata": {},
     "output_type": "execute_result"
    }
   ],
   "source": [
    "z.head"
   ]
  },
  {
   "cell_type": "code",
   "execution_count": 44,
   "id": "14eadb6d-17c5-48f5-9f82-c83e60258e40",
   "metadata": {},
   "outputs": [
    {
     "data": {
      "text/plain": [
       "4-element Vector{Any}:\n",
       " :⊕\n",
       " :x1\n",
       " :x2\n",
       " :x3"
      ]
     },
     "execution_count": 44,
     "metadata": {},
     "output_type": "execute_result"
    }
   ],
   "source": [
    "z.args"
   ]
  },
  {
   "cell_type": "code",
   "execution_count": 45,
   "id": "15429af1-d104-4a55-9e92-205099dd4deb",
   "metadata": {},
   "outputs": [
    {
     "data": {
      "text/plain": [
       ":(((x1 * x2 ⊕ (x2 ⊕ x3)) ⊕ (x2 + x5)) ⊕ x4)"
      ]
     },
     "execution_count": 45,
     "metadata": {},
     "output_type": "execute_result"
    }
   ],
   "source": [
    "ex = Meta.parse(\"(x1 * x2) ⊕ (x2 ⊕ x3) ⊕ (x2 + x5) ⊕ x4\")"
   ]
  },
  {
   "cell_type": "code",
   "execution_count": 46,
   "id": "12d0d705-21ca-4b3c-8574-ebc60d682bca",
   "metadata": {
    "scrolled": true
   },
   "outputs": [
    {
     "data": {
      "text/plain": [
       ":(⊕(x1 * x2, x2, x3, x2 + x5, x4))"
      ]
     },
     "execution_count": 46,
     "metadata": {},
     "output_type": "execute_result"
    }
   ],
   "source": [
    "z = Boolean.fixXorParseTree(ex)"
   ]
  },
  {
   "cell_type": "code",
   "execution_count": 47,
   "id": "60d3d155-aa1b-4f1b-8491-cf93e241da12",
   "metadata": {},
   "outputs": [
    {
     "data": {
      "text/plain": [
       "6-element Vector{Any}:\n",
       " :⊕\n",
       " :(x1 * x2)\n",
       " :x2\n",
       " :x3\n",
       " :(x2 + x5)\n",
       " :x4"
      ]
     },
     "execution_count": 47,
     "metadata": {},
     "output_type": "execute_result"
    }
   ],
   "source": [
    "z.args"
   ]
  },
  {
   "cell_type": "code",
   "execution_count": 48,
   "id": "c25cb913-4378-4326-a1f2-cdd5f05e06b2",
   "metadata": {},
   "outputs": [
    {
     "data": {
      "text/plain": [
       ":((x1 ⊕ x3) ⊕ (x1 ⊕ x3))"
      ]
     },
     "execution_count": 48,
     "metadata": {},
     "output_type": "execute_result"
    }
   ],
   "source": [
    "ex = Meta.parse(\"(x1 ⊕ x3) ⊕ (x1 ⊕ x3)\")"
   ]
  },
  {
   "cell_type": "code",
   "execution_count": 49,
   "id": "6545fcff-bd53-4513-a548-88242ca6e577",
   "metadata": {},
   "outputs": [
    {
     "data": {
      "text/plain": [
       "3-element Vector{Any}:\n",
       " :⊕\n",
       " :x1\n",
       " :x3"
      ]
     },
     "execution_count": 49,
     "metadata": {},
     "output_type": "execute_result"
    }
   ],
   "source": [
    "ex.args[2].args"
   ]
  },
  {
   "cell_type": "code",
   "execution_count": 50,
   "id": "d006882d-041c-40db-b09f-7b022ce1097e",
   "metadata": {},
   "outputs": [
    {
     "data": {
      "text/plain": [
       "0"
      ]
     },
     "execution_count": 50,
     "metadata": {},
     "output_type": "execute_result"
    }
   ],
   "source": [
    "simplifyLogic(ex)"
   ]
  },
  {
   "cell_type": "code",
   "execution_count": 51,
   "id": "83674bdc-1508-42a9-af6f-d6fa49f784ee",
   "metadata": {},
   "outputs": [
    {
     "data": {
      "text/plain": [
       ":(((x1 ⊕ (x2 + x3)) ⊕ x4) ⊕ x5)"
      ]
     },
     "execution_count": 51,
     "metadata": {},
     "output_type": "execute_result"
    }
   ],
   "source": [
    "ex = Meta.parse(\"x1 ⊕ (x2 + x3) ⊕ x4 ⊕ x5\")"
   ]
  },
  {
   "cell_type": "code",
   "execution_count": 52,
   "id": "8a47fdba-fddb-4dc6-b4c6-c46280ba3d86",
   "metadata": {},
   "outputs": [
    {
     "name": "stdout",
     "output_type": "stream",
     "text": [
      "  Expr: ((x1 ⊕ (x2 + x3)) ⊕ x4) ⊕ x5\n",
      "    Expr: (x1 ⊕ (x2 + x3)) ⊕ x4\n",
      "      Expr: x1 ⊕ (x2 + x3)\n",
      "        Symbol: x1\n",
      "        Expr: x2 + x3\n",
      "          Symbol: x2\n",
      "          Symbol: x3\n",
      "      Symbol: x4\n",
      "    Symbol: x5\n"
     ]
    },
    {
     "data": {
      "text/plain": [
       ":(⊕(x1, x2 + x3, x4, x5))"
      ]
     },
     "execution_count": 52,
     "metadata": {},
     "output_type": "execute_result"
    }
   ],
   "source": [
    "zz = Boolean.fixXorParseTree(ex; verbose=true)"
   ]
  },
  {
   "cell_type": "code",
   "execution_count": 53,
   "id": "779bc04c-ece5-41cc-abef-5682ba8d2c4c",
   "metadata": {},
   "outputs": [
    {
     "data": {
      "text/plain": [
       "5-element Vector{Any}:\n",
       " :⊕\n",
       " :x1\n",
       " :(x2 + x3)\n",
       " :x4\n",
       " :x5"
      ]
     },
     "execution_count": 53,
     "metadata": {},
     "output_type": "execute_result"
    }
   ],
   "source": [
    "zz.args"
   ]
  },
  {
   "cell_type": "code",
   "execution_count": 54,
   "id": "a9422cfa-eb4b-490b-a78b-76f7f5ef8950",
   "metadata": {},
   "outputs": [
    {
     "data": {
      "text/plain": [
       ":(⊕(x1, x4, x5, x2 + x3))"
      ]
     },
     "execution_count": 54,
     "metadata": {},
     "output_type": "execute_result"
    }
   ],
   "source": [
    "simplifyLogic(parseLogic(\"x1 ⊕ (x2 + x3) ⊕ x4 ⊕ x5\"))"
   ]
  },
  {
   "cell_type": "code",
   "execution_count": 55,
   "id": "5cf9b57e-e064-4453-9852-7cfaa51a0a1f",
   "metadata": {},
   "outputs": [
    {
     "data": {
      "text/plain": [
       ":z1"
      ]
     },
     "execution_count": 55,
     "metadata": {},
     "output_type": "execute_result"
    }
   ],
   "source": [
    "simplifyLogic(Boolean.fixXorParseTree(Meta.parse(\"(z1 ⊕ z3) ⊕ (0 ⊕ z3)\")))"
   ]
  },
  {
   "cell_type": "code",
   "execution_count": 56,
   "id": "9f092468-a9f0-4eed-a602-87ac1928ab05",
   "metadata": {},
   "outputs": [
    {
     "data": {
      "text/plain": [
       ":(x2 * x3)"
      ]
     },
     "execution_count": 56,
     "metadata": {},
     "output_type": "execute_result"
    }
   ],
   "source": [
    "simplifyLogic(Boolean.fixXorParseTree(Meta.parse(\"((1 + x2) * x3) * x2\")))"
   ]
  },
  {
   "cell_type": "code",
   "execution_count": 57,
   "id": "0f31a2c1-33f1-40e5-8a16-cba3fe8d822d",
   "metadata": {},
   "outputs": [],
   "source": [
    "using Boolean"
   ]
  },
  {
   "cell_type": "code",
   "execution_count": 58,
   "id": "a95f7ac5-712a-46fa-9c4b-ad6d0f00b3ca",
   "metadata": {},
   "outputs": [
    {
     "data": {
      "text/plain": [
       ":(x1 * x2 + x2 * x3)"
      ]
     },
     "execution_count": 58,
     "metadata": {},
     "output_type": "execute_result"
    }
   ],
   "source": [
    "simplifyLogic(parseLogic(\"(x1 * x2) + (x2 * x3) + (x1 * x2)\"))"
   ]
  },
  {
   "cell_type": "code",
   "execution_count": 59,
   "id": "26e3e60f-9eac-49ea-9b79-4e0b1962be18",
   "metadata": {},
   "outputs": [
    {
     "data": {
      "text/plain": [
       ":(x1 * x2 + x2 * x3 + x1 * x2)"
      ]
     },
     "execution_count": 59,
     "metadata": {},
     "output_type": "execute_result"
    }
   ],
   "source": [
    "z = parseLogic(\"(x1 * x2) + (x2 * x3) + (x1 * x2)\")"
   ]
  },
  {
   "cell_type": "code",
   "execution_count": 60,
   "id": "16d68694-3d25-4e95-9a02-f923e318eab2",
   "metadata": {},
   "outputs": [
    {
     "data": {
      "text/plain": [
       "4-element Vector{Any}:\n",
       " :+\n",
       " :(x1 * x2)\n",
       " :(x2 * x3)\n",
       " :(x1 * x2)"
      ]
     },
     "execution_count": 60,
     "metadata": {},
     "output_type": "execute_result"
    }
   ],
   "source": [
    "z.args"
   ]
  },
  {
   "cell_type": "code",
   "execution_count": 61,
   "id": "86be78e5-34cd-4023-94bf-7eb492de52ca",
   "metadata": {},
   "outputs": [
    {
     "data": {
      "text/plain": [
       ":(x1 * x2 + x2 * x3 + x1 * x2)"
      ]
     },
     "execution_count": 61,
     "metadata": {},
     "output_type": "execute_result"
    }
   ],
   "source": [
    "parseLogic(\"x1 * x2 + x2 * x3 + x1 * x2\")"
   ]
  },
  {
   "cell_type": "code",
   "execution_count": 62,
   "id": "c460c73d-72a3-4f45-89f6-4b1e818c0973",
   "metadata": {},
   "outputs": [
    {
     "data": {
      "text/plain": [
       ":(x1 * x2 + x2 * x3 + x1 * x2 + ~x10)"
      ]
     },
     "execution_count": 62,
     "metadata": {},
     "output_type": "execute_result"
    }
   ],
   "source": [
    "parseLogic(\"x1 * x2 + x2 * x3 + x1 * x2 + ~x10\")"
   ]
  },
  {
   "cell_type": "code",
   "execution_count": 63,
   "id": "09b9fbf9-2ef7-46ce-b49b-934b4f1831f9",
   "metadata": {},
   "outputs": [
    {
     "data": {
      "text/plain": [
       "@bfunc (macro with 1 method)"
      ]
     },
     "execution_count": 63,
     "metadata": {},
     "output_type": "execute_result"
    }
   ],
   "source": [
    "macro bfunc(x)\n",
    "    begin\n",
    "    sform = string(x)\n",
    "    num_vars = maximum([parse(Int64, x) for x in split(sform, r\"[ *+~()⊕a-z]+\") if x != \"\"])\n",
    "    init_logic(num_vars)\n",
    "    return(create_bool_rep(sform));\n",
    "    end\n",
    "end"
   ]
  },
  {
   "cell_type": "code",
   "execution_count": 64,
   "id": "acef7757-d496-4317-b96f-78ad30a4afc2",
   "metadata": {},
   "outputs": [
    {
     "data": {
      "text/plain": [
       "10"
      ]
     },
     "execution_count": 64,
     "metadata": {},
     "output_type": "execute_result"
    }
   ],
   "source": [
    "init_logic(10)"
   ]
  },
  {
   "cell_type": "code",
   "execution_count": 65,
   "id": "2d9caac0-9fc1-416a-963e-c8a51b604c5a",
   "metadata": {},
   "outputs": [
    {
     "data": {
      "text/plain": [
       "1024×10 BitMatrix:\n",
       " 0  0  0  0  0  0  0  0  0  0\n",
       " 1  0  0  0  0  0  0  0  0  0\n",
       " 0  1  0  0  0  0  0  0  0  0\n",
       " 1  1  0  0  0  0  0  0  0  0\n",
       " 0  0  1  0  0  0  0  0  0  0\n",
       " 1  0  1  0  0  0  0  0  0  0\n",
       " 0  1  1  0  0  0  0  0  0  0\n",
       " 1  1  1  0  0  0  0  0  0  0\n",
       " 0  0  0  1  0  0  0  0  0  0\n",
       " 1  0  0  1  0  0  0  0  0  0\n",
       " 0  1  0  1  0  0  0  0  0  0\n",
       " 1  1  0  1  0  0  0  0  0  0\n",
       " 0  0  1  1  0  0  0  0  0  0\n",
       " ⋮              ⋮           \n",
       " 0  0  1  0  1  1  1  1  1  1\n",
       " 1  0  1  0  1  1  1  1  1  1\n",
       " 0  1  1  0  1  1  1  1  1  1\n",
       " 1  1  1  0  1  1  1  1  1  1\n",
       " 0  0  0  1  1  1  1  1  1  1\n",
       " 1  0  0  1  1  1  1  1  1  1\n",
       " 0  1  0  1  1  1  1  1  1  1\n",
       " 1  1  0  1  1  1  1  1  1  1\n",
       " 0  0  1  1  1  1  1  1  1  1\n",
       " 1  0  1  1  1  1  1  1  1  1\n",
       " 0  1  1  1  1  1  1  1  1  1\n",
       " 1  1  1  1  1  1  1  1  1  1"
      ]
     },
     "execution_count": 65,
     "metadata": {},
     "output_type": "execute_result"
    }
   ],
   "source": [
    "Boolean.vars"
   ]
  },
  {
   "cell_type": "code",
   "execution_count": 66,
   "id": "46b96e16-507f-41d6-8789-a51da3f28f12",
   "metadata": {},
   "outputs": [
    {
     "data": {
      "text/plain": [
       "1280"
      ]
     },
     "execution_count": 66,
     "metadata": {},
     "output_type": "execute_result"
    }
   ],
   "source": [
    "sizeof(Boolean.vars)"
   ]
  },
  {
   "cell_type": "code",
   "execution_count": 67,
   "id": "182db543-025e-4ba5-9396-2a1d1edeceb3",
   "metadata": {},
   "outputs": [
    {
     "data": {
      "text/plain": [
       "1280.0"
      ]
     },
     "execution_count": 67,
     "metadata": {},
     "output_type": "execute_result"
    }
   ],
   "source": [
    "1024 * 10 / 8"
   ]
  },
  {
   "cell_type": "code",
   "execution_count": 68,
   "id": "b0b0871d-f696-45f1-a97b-fe7064a738ff",
   "metadata": {},
   "outputs": [
    {
     "data": {
      "text/plain": [
       "Formula    = ((x1 + x2) ⊕ x3 * x2) + ~x10\n",
       "Variable   = x\n",
       "Size       = 10\n",
       "Bit vector = Bool[1, 1, 1, 1, 1, 1, 1, 1, 1, 1  …  0, 0, 0, 1, 1, 1, 0, 1, 0, 0]\n"
      ]
     },
     "execution_count": 68,
     "metadata": {},
     "output_type": "execute_result"
    }
   ],
   "source": [
    "form = @bfunc x1 + x2 ⊕ x3 * x2 + ~x10"
   ]
  },
  {
   "cell_type": "code",
   "execution_count": 69,
   "id": "8e13b79a-e209-4e48-bd53-401021ffaa7b",
   "metadata": {},
   "outputs": [
    {
     "data": {
      "text/plain": [
       "32"
      ]
     },
     "execution_count": 69,
     "metadata": {},
     "output_type": "execute_result"
    }
   ],
   "source": [
    "sizeof(form)"
   ]
  },
  {
   "cell_type": "code",
   "execution_count": 70,
   "id": "d30ccd53-0f86-431e-903d-96ed503024f9",
   "metadata": {},
   "outputs": [
    {
     "data": {
      "text/plain": [
       "Formula    = ((x1 + x2) ⊕ x3 * x2) + ~x10\n",
       "Variable   = x\n",
       "Size       = 10\n",
       "Bit vector = Bool[1, 1, 1, 1, 1, 1, 1, 1, 1, 1  …  0, 0, 0, 1, 1, 1, 0, 1, 0, 0]\n"
      ]
     },
     "execution_count": 70,
     "metadata": {},
     "output_type": "execute_result"
    }
   ],
   "source": [
    "form"
   ]
  },
  {
   "cell_type": "code",
   "execution_count": 71,
   "id": "8a4505f6-8b68-4b5d-982f-22ea2dd7cfd4",
   "metadata": {},
   "outputs": [
    {
     "data": {
      "text/plain": [
       "128"
      ]
     },
     "execution_count": 71,
     "metadata": {},
     "output_type": "execute_result"
    }
   ],
   "source": [
    "sizeof(form.val)"
   ]
  },
  {
   "cell_type": "code",
   "execution_count": 72,
   "id": "ccb5f3e7-896b-4e41-9c8b-ec0b7073edc3",
   "metadata": {},
   "outputs": [
    {
     "data": {
      "text/plain": [
       "Blogic"
      ]
     },
     "execution_count": 72,
     "metadata": {},
     "output_type": "execute_result"
    }
   ],
   "source": [
    "typeof(form)"
   ]
  },
  {
   "cell_type": "code",
   "execution_count": 73,
   "id": "c82aefe0-83e3-4af3-9d65-1a73c13d9eeb",
   "metadata": {},
   "outputs": [
    {
     "data": {
      "text/plain": [
       "Formula    = ((x1 + x2) ⊕ x3 * x2) + ~x10\n",
       "Variable   = x\n",
       "Size       = 10\n",
       "Bit vector = Bool[1, 1, 1, 1, 1, 1, 1, 1, 1, 1  …  0, 0, 0, 1, 1, 1, 0, 1, 0, 0]\n"
      ]
     },
     "execution_count": 73,
     "metadata": {},
     "output_type": "execute_result"
    }
   ],
   "source": [
    "form"
   ]
  },
  {
   "cell_type": "code",
   "execution_count": 74,
   "id": "af23b97b-1722-486c-98f7-8f30e15b263d",
   "metadata": {},
   "outputs": [
    {
     "data": {
      "text/plain": [
       "4"
      ]
     },
     "execution_count": 74,
     "metadata": {},
     "output_type": "execute_result"
    }
   ],
   "source": [
    "str = \"x1 + x2 ⊕ x3 * (x2 + x4)\"\n",
    "xx = maximum([parse(Int64, x) for x in split(str, r\"[ *+~()⊕a-z]+\") if x != \"\"])"
   ]
  },
  {
   "cell_type": "code",
   "execution_count": 75,
   "id": "fa066a80-76f1-4719-9224-c19a077e3420",
   "metadata": {},
   "outputs": [
    {
     "data": {
      "text/plain": [
       "128"
      ]
     },
     "execution_count": 75,
     "metadata": {},
     "output_type": "execute_result"
    }
   ],
   "source": [
    "sizeof(form.val)"
   ]
  },
  {
   "cell_type": "code",
   "execution_count": 76,
   "id": "63bf00cc-b910-45bd-b70e-41dd537662a4",
   "metadata": {},
   "outputs": [
    {
     "data": {
      "text/plain": [
       "8"
      ]
     },
     "execution_count": 76,
     "metadata": {},
     "output_type": "execute_result"
    }
   ],
   "source": [
    "sizeof(BitVector(Bool[0,1,1,1,0,1, 0, 0,0,1,0,1,1,1,1,0,0,0,1,0,0,1,1]))"
   ]
  },
  {
   "cell_type": "code",
   "execution_count": 77,
   "id": "617cc7ae-2044-417b-bcbd-d3622ce4cabf",
   "metadata": {},
   "outputs": [
    {
     "data": {
      "text/plain": [
       "Formula    = ((x1 + x2) ⊕ x3 * x2) + ~x10\n",
       "Variable   = x\n",
       "Size       = 10\n",
       "Bit vector = Bool[1, 1, 1, 1, 1, 1, 1, 1, 1, 1  …  0, 0, 0, 1, 1, 1, 0, 1, 0, 0]\n"
      ]
     },
     "metadata": {},
     "output_type": "display_data"
    }
   ],
   "source": [
    "display(form)"
   ]
  },
  {
   "cell_type": "code",
   "execution_count": 78,
   "id": "7a4a5f8e-3d82-400f-9a67-c4501e891646",
   "metadata": {},
   "outputs": [
    {
     "name": "stdout",
     "output_type": "stream",
     "text": [
      "Bool[1, 1, 1, 1, 1, 1, 1, 1, 1, 1, 1, 1, 1, 1, 1, 1, 1, 1, 1, 1, 1, 1, 1, 1, 1, 1, 1, 1, 1, 1, 1, 1, 1, 1, 1, 1, 1, 1, 1, 1, 1, 1, 1, 1, 1, 1, 1, 1, 1, 1, 1, 1, 1, 1, 1, 1, 1, 1, 1, 1, 1, 1, 1, 1, 1, 1, 1, 1, 1, 1, 1, 1, 1, 1, 1, 1, 1, 1, 1, 1, 1, 1, 1, 1, 1, 1, 1, 1, 1, 1, 1, 1, 1, 1, 1, 1, 1, 1, 1, 1, 1, 1, 1, 1, 1, 1, 1, 1, 1, 1, 1, 1, 1, 1, 1, 1, 1, 1, 1, 1, 1, 1, 1, 1, 1, 1, 1, 1, 1, 1, 1, 1, 1, 1, 1, 1, 1, 1, 1, 1, 1, 1, 1, 1, 1, 1, 1, 1, 1, 1, 1, 1, 1, 1, 1, 1, 1, 1, 1, 1, 1, 1, 1, 1, 1, 1, 1, 1, 1, 1, 1, 1, 1, 1, 1, 1, 1, 1, 1, 1, 1, 1, 1, 1, 1, 1, 1, 1, 1, 1, 1, 1, 1, 1, 1, 1, 1, 1, 1, 1, 1, 1, 1, 1, 1, 1, 1, 1, 1, 1, 1, 1, 1, 1, 1, 1, 1, 1, 1, 1, 1, 1, 1, 1, 1, 1, 1, 1, 1, 1, 1, 1, 1, 1, 1, 1, 1, 1, 1, 1, 1, 1, 1, 1, 1, 1, 1, 1, 1, 1, 1, 1, 1, 1, 1, 1, 1, 1, 1, 1, 1, 1, 1, 1, 1, 1, 1, 1, 1, 1, 1, 1, 1, 1, 1, 1, 1, 1, 1, 1, 1, 1, 1, 1, 1, 1, 1, 1, 1, 1, 1, 1, 1, 1, 1, 1, 1, 1, 1, 1, 1, 1, 1, 1, 1, 1, 1, 1, 1, 1, 1, 1, 1, 1, 1, 1, 1, 1, 1, 1, 1, 1, 1, 1, 1, 1, 1, 1, 1, 1, 1, 1, 1, 1, 1, 1, 1, 1, 1, 1, 1, 1, 1, 1, 1, 1, 1, 1, 1, 1, 1, 1, 1, 1, 1, 1, 1, 1, 1, 1, 1, 1, 1, 1, 1, 1, 1, 1, 1, 1, 1, 1, 1, 1, 1, 1, 1, 1, 1, 1, 1, 1, 1, 1, 1, 1, 1, 1, 1, 1, 1, 1, 1, 1, 1, 1, 1, 1, 1, 1, 1, 1, 1, 1, 1, 1, 1, 1, 1, 1, 1, 1, 1, 1, 1, 1, 1, 1, 1, 1, 1, 1, 1, 1, 1, 1, 1, 1, 1, 1, 1, 1, 1, 1, 1, 1, 1, 1, 1, 1, 1, 1, 1, 1, 1, 1, 1, 1, 1, 1, 1, 1, 1, 1, 1, 1, 1, 1, 1, 1, 1, 1, 1, 1, 1, 1, 1, 1, 1, 1, 1, 1, 1, 1, 1, 1, 1, 1, 1, 1, 1, 1, 1, 1, 1, 1, 1, 1, 1, 1, 1, 1, 1, 1, 1, 1, 1, 1, 1, 1, 1, 1, 1, 1, 1, 1, 1, 1, 1, 1, 1, 1, 0, 1, 1, 1, 0, 1, 0, 0, 0, 1, 1, 1, 0, 1, 0, 0, 0, 1, 1, 1, 0, 1, 0, 0, 0, 1, 1, 1, 0, 1, 0, 0, 0, 1, 1, 1, 0, 1, 0, 0, 0, 1, 1, 1, 0, 1, 0, 0, 0, 1, 1, 1, 0, 1, 0, 0, 0, 1, 1, 1, 0, 1, 0, 0, 0, 1, 1, 1, 0, 1, 0, 0, 0, 1, 1, 1, 0, 1, 0, 0, 0, 1, 1, 1, 0, 1, 0, 0, 0, 1, 1, 1, 0, 1, 0, 0, 0, 1, 1, 1, 0, 1, 0, 0, 0, 1, 1, 1, 0, 1, 0, 0, 0, 1, 1, 1, 0, 1, 0, 0, 0, 1, 1, 1, 0, 1, 0, 0, 0, 1, 1, 1, 0, 1, 0, 0, 0, 1, 1, 1, 0, 1, 0, 0, 0, 1, 1, 1, 0, 1, 0, 0, 0, 1, 1, 1, 0, 1, 0, 0, 0, 1, 1, 1, 0, 1, 0, 0, 0, 1, 1, 1, 0, 1, 0, 0, 0, 1, 1, 1, 0, 1, 0, 0, 0, 1, 1, 1, 0, 1, 0, 0, 0, 1, 1, 1, 0, 1, 0, 0, 0, 1, 1, 1, 0, 1, 0, 0, 0, 1, 1, 1, 0, 1, 0, 0, 0, 1, 1, 1, 0, 1, 0, 0, 0, 1, 1, 1, 0, 1, 0, 0, 0, 1, 1, 1, 0, 1, 0, 0, 0, 1, 1, 1, 0, 1, 0, 0, 0, 1, 1, 1, 0, 1, 0, 0, 0, 1, 1, 1, 0, 1, 0, 0, 0, 1, 1, 1, 0, 1, 0, 0, 0, 1, 1, 1, 0, 1, 0, 0, 0, 1, 1, 1, 0, 1, 0, 0, 0, 1, 1, 1, 0, 1, 0, 0, 0, 1, 1, 1, 0, 1, 0, 0, 0, 1, 1, 1, 0, 1, 0, 0, 0, 1, 1, 1, 0, 1, 0, 0, 0, 1, 1, 1, 0, 1, 0, 0, 0, 1, 1, 1, 0, 1, 0, 0, 0, 1, 1, 1, 0, 1, 0, 0, 0, 1, 1, 1, 0, 1, 0, 0, 0, 1, 1, 1, 0, 1, 0, 0, 0, 1, 1, 1, 0, 1, 0, 0, 0, 1, 1, 1, 0, 1, 0, 0, 0, 1, 1, 1, 0, 1, 0, 0, 0, 1, 1, 1, 0, 1, 0, 0, 0, 1, 1, 1, 0, 1, 0, 0, 0, 1, 1, 1, 0, 1, 0, 0, 0, 1, 1, 1, 0, 1, 0, 0, 0, 1, 1, 1, 0, 1, 0, 0, 0, 1, 1, 1, 0, 1, 0, 0, 0, 1, 1, 1, 0, 1, 0, 0, 0, 1, 1, 1, 0, 1, 0, 0, 0, 1, 1, 1, 0, 1, 0, 0, 0, 1, 1, 1, 0, 1, 0, 0, 0, 1, 1, 1, 0, 1, 0, 0, 0, 1, 1, 1, 0, 1, 0, 0, 0, 1, 1, 1, 0, 1, 0, 0, 0, 1, 1, 1, 0, 1, 0, 0, 0, 1, 1, 1, 0, 1, 0, 0, 0, 1, 1, 1, 0, 1, 0, 0]\n"
     ]
    }
   ],
   "source": [
    "println(form.val)"
   ]
  },
  {
   "cell_type": "code",
   "execution_count": null,
   "id": "86a47066-4290-4df5-b8e9-2efa45187677",
   "metadata": {},
   "outputs": [],
   "source": []
  }
 ],
 "metadata": {
  "kernelspec": {
   "display_name": "Julia 1.10.0",
   "language": "julia",
   "name": "julia-1.10"
  },
  "language_info": {
   "file_extension": ".jl",
   "mimetype": "application/julia",
   "name": "julia",
   "version": "1.10.2"
  }
 },
 "nbformat": 4,
 "nbformat_minor": 5
}
