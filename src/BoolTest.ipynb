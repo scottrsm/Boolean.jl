{
 "cells": [
  {
   "cell_type": "code",
   "execution_count": 1,
   "id": "391cd845-516d-49b3-b5ca-a7262ad9955b",
   "metadata": {},
   "outputs": [],
   "source": [
    "using Revise"
   ]
  },
  {
   "cell_type": "code",
   "execution_count": 2,
   "id": "1b7784c0-c86f-4710-981a-94b89565b8b4",
   "metadata": {},
   "outputs": [],
   "source": [
    "using MacroTools"
   ]
  },
  {
   "cell_type": "code",
   "execution_count": 3,
   "id": "9fa098b2-2258-4a69-80b6-54af2ad33dbb",
   "metadata": {},
   "outputs": [
    {
     "name": "stderr",
     "output_type": "stream",
     "text": [
      "\u001b[32m\u001b[1mPrecompiling\u001b[22m\u001b[39m Boolean\n",
      "\u001b[32m  ✓ \u001b[39mBoolean\n",
      "  1 dependency successfully precompiled in 1 seconds. 30 already precompiled.\n",
      "\u001b[36m\u001b[1m[ \u001b[22m\u001b[39m\u001b[36m\u001b[1mInfo: \u001b[22m\u001b[39mPrecompiling Boolean [top-level]\n"
     ]
    }
   ],
   "source": [
    "using Boolean"
   ]
  },
  {
   "cell_type": "code",
   "execution_count": 4,
   "id": "19bfd268-0303-4cb4-b67f-d0ffc207b235",
   "metadata": {},
   "outputs": [
    {
     "name": "stdout",
     "output_type": "stream",
     "text": [
      "x2 * (x3 * (x1 + x2))\n"
     ]
    }
   ],
   "source": [
    "init_logic(3)\n",
    "println(simplifyLogic(Meta.parse(\"((x1 + x2) * x3) * (x1 * 0 + x2 * 1)\")))"
   ]
  },
  {
   "cell_type": "code",
   "execution_count": 5,
   "id": "84bbd2b9-97d7-4dac-ac4e-d4548951c06b",
   "metadata": {},
   "outputs": [
    {
     "data": {
      "text/plain": [
       "Formula    = z1 + z2\n",
       "Variable   = z\n",
       "Size       = 3\n",
       "Bit vector = Bool[0, 1, 1, 1, 0, 1, 1, 1]\n"
      ]
     },
     "execution_count": 5,
     "metadata": {},
     "output_type": "execute_result"
    }
   ],
   "source": [
    "create_bool_rep(\"z1 + z2\")"
   ]
  },
  {
   "cell_type": "code",
   "execution_count": 6,
   "id": "31e62bd3-c168-4138-8bb1-9d46c04bd568",
   "metadata": {},
   "outputs": [
    {
     "data": {
      "text/plain": [
       ":(x1 * ~x1)"
      ]
     },
     "execution_count": 6,
     "metadata": {},
     "output_type": "execute_result"
    }
   ],
   "source": [
    "z = simplifyLogic(Meta.parse(\"x1 * (1 ⊕ x1)\"))"
   ]
  },
  {
   "cell_type": "code",
   "execution_count": 7,
   "id": "ff14220b-b60a-49f7-8975-df24c763d28c",
   "metadata": {},
   "outputs": [
    {
     "data": {
      "text/plain": [
       "2-element Vector{Any}:\n",
       " :~\n",
       " :x1"
      ]
     },
     "execution_count": 7,
     "metadata": {},
     "output_type": "execute_result"
    }
   ],
   "source": [
    "z.args[3].args"
   ]
  },
  {
   "cell_type": "code",
   "execution_count": 8,
   "id": "2b87a9b1-9ac5-4354-be4b-adde794efe0c",
   "metadata": {},
   "outputs": [
    {
     "data": {
      "text/plain": [
       "8×3 BitMatrix:\n",
       " 0  0  0\n",
       " 1  0  0\n",
       " 0  1  0\n",
       " 1  1  0\n",
       " 0  0  1\n",
       " 1  0  1\n",
       " 0  1  1\n",
       " 1  1  1"
      ]
     },
     "execution_count": 8,
     "metadata": {},
     "output_type": "execute_result"
    }
   ],
   "source": [
    "BitArray([((i-1) >> (j-1)) & 1  for i in 1:2^3, j in 1:3])"
   ]
  },
  {
   "cell_type": "code",
   "execution_count": 9,
   "id": "ea86a076-d021-44aa-bb76-18b27dc271ed",
   "metadata": {},
   "outputs": [
    {
     "data": {
      "text/plain": [
       ":(z3 ⊕ (z1 ⊕ z3))"
      ]
     },
     "execution_count": 9,
     "metadata": {},
     "output_type": "execute_result"
    }
   ],
   "source": [
    "simplifyLogic(Meta.parse(\"(z1 ⊕ z3) ⊕ (0 ⊕ z3)\"))"
   ]
  },
  {
   "cell_type": "code",
   "execution_count": 10,
   "id": "d7412775-f195-4486-8269-8dee059d4070",
   "metadata": {},
   "outputs": [
    {
     "data": {
      "text/plain": [
       ":(x2 * (x3 * (x1 + x2)))"
      ]
     },
     "execution_count": 10,
     "metadata": {},
     "output_type": "execute_result"
    }
   ],
   "source": [
    "simplifyLogic(Meta.parse(\"((x1 + x2) * x3) * (x1 * 0 + x2 * 1)\"))"
   ]
  },
  {
   "cell_type": "code",
   "execution_count": 11,
   "id": "c2112c54-3233-4800-8404-87c021ef2bdf",
   "metadata": {},
   "outputs": [
    {
     "data": {
      "text/plain": [
       ":x1"
      ]
     },
     "execution_count": 11,
     "metadata": {},
     "output_type": "execute_result"
    }
   ],
   "source": [
    "simplifyLogic(Meta.parse(\"0 + x1\"))"
   ]
  },
  {
   "cell_type": "code",
   "execution_count": 12,
   "id": "fd6bf430-9ce0-49bd-a2dc-f76eff06e3b5",
   "metadata": {},
   "outputs": [
    {
     "data": {
      "text/plain": [
       ":x1"
      ]
     },
     "execution_count": 12,
     "metadata": {},
     "output_type": "execute_result"
    }
   ],
   "source": [
    "simplifyLogic(Meta.parse(\"x1 * (x1 + 0)\")) "
   ]
  },
  {
   "cell_type": "code",
   "execution_count": 13,
   "id": "bedede2c-153b-4225-85f4-16496ba71d9c",
   "metadata": {},
   "outputs": [
    {
     "name": "stdout",
     "output_type": "stream",
     "text": [
      "\n",
      "Examining the 'f2' formula:\n",
      "Formula    = (z1 * z3) ⊕ (z2 * z3)\n",
      "Variable   = z\n",
      "Size       = 3\n",
      "Bit vector = Bool[0, 0, 0, 0, 0, 1, 1, 0]\n",
      "\n",
      "Number of non-zero bits: 2\n",
      "First 5 (at most 5) variable values that lead to a 'true' value are:\n",
      "z1, z2, z3):\n",
      "(1, 0, 1)\n",
      "(0, 1, 1)\n",
      "\n",
      "Examining the 'zero' formula:\n",
      "Formula    = ((x1 + x2) * x3) ⊕ (x1 * x3 + x2 * x3)\n",
      "Variable   = x\n",
      "Size       = 3\n",
      "Bit vector = Bool[0, 0, 0, 0, 0, 0, 0, 0]\n",
      "\n",
      "Number of non-zero bits: 0\n",
      "First 5 (at most 5) variable values that lead to a 'true' value are:\n"
     ]
    },
    {
     "data": {
      "text/plain": [
       "0"
      ]
     },
     "execution_count": 13,
     "metadata": {},
     "output_type": "execute_result"
    }
   ],
   "source": [
    "init_logic(3)\n",
    "\n",
    "f1 = \"x1 + x2 * x3\"\n",
    "f2 = \"(z1 * z3) ⊕ (z2 * z3)\"\n",
    "zero = \"((x1 + x2) * x3) ⊕ (x1 * x3 + x2 * x3)\"\n",
    "\n",
    "println(\"\\nExamining the 'f2' formula:\")\n",
    "f2e = create_bool_rep(f2)\n",
    "println(f2e)\n",
    "print(\"Number of non-zero bits: \")\n",
    "println(logicCount(f2e))\n",
    "println(\"First 5 (at most 5) variable values that lead to a 'true' value are:\")\n",
    "println(\"$(f2e.var)1, $(f2e.var)2, $(f2e.var)3):\")\n",
    "res = nonZero(f2e, head=5)\n",
    "print(res)\n",
    "\n",
    "println(\"\\nExamining the 'zero' formula:\")\n",
    "zeroe = create_bool_rep(zero)\n",
    "println(zeroe)\n",
    "print(\"Number of non-zero bits: \")\n",
    "println(logicCount(zeroe))\n",
    "println(\"First 5 (at most 5) variable values that lead to a 'true' value are:\")\n",
    "res = nonZero(zeroe, head=5)\n",
    "typeof(res)\n",
    "res\n",
    "logicCount(zeroe)"
   ]
  },
  {
   "cell_type": "code",
   "execution_count": 14,
   "id": "470f1113-77b0-4d00-a918-971e0b7421c7",
   "metadata": {},
   "outputs": [
    {
     "data": {
      "text/plain": [
       "Formula    = (z1 + z2) * z3\n",
       "Variable   = z\n",
       "Size       = 3\n",
       "Bit vector = Bool[0, 0, 0, 0, 0, 1, 1, 1]\n"
      ]
     },
     "execution_count": 14,
     "metadata": {},
     "output_type": "execute_result"
    }
   ],
   "source": [
    "create_bool_rep(\"(z1 + z2) * z3\")"
   ]
  },
  {
   "cell_type": "code",
   "execution_count": 15,
   "id": "2dc08967-3bbe-4bad-8d59-3bafd3f49d6c",
   "metadata": {},
   "outputs": [
    {
     "data": {
      "text/plain": [
       "true"
      ]
     },
     "execution_count": 15,
     "metadata": {},
     "output_type": "execute_result"
    }
   ],
   "source": [
    "isEquiv(f1, f1)"
   ]
  },
  {
   "cell_type": "code",
   "execution_count": 16,
   "id": "b8614e0f-ca96-49af-b5af-d44b42a55e57",
   "metadata": {},
   "outputs": [
    {
     "data": {
      "text/plain": [
       ":(((x1 + x2) * x3) * (x1 * 0 + x2 * 1))"
      ]
     },
     "execution_count": 16,
     "metadata": {},
     "output_type": "execute_result"
    }
   ],
   "source": [
    "Meta.parse(\"((x1 + x2) * x3) * (x1 * 0 + x2 * 1)\")"
   ]
  },
  {
   "cell_type": "code",
   "execution_count": 17,
   "id": "c6a97024-a566-4787-a117-2f5d4d648a3b",
   "metadata": {},
   "outputs": [
    {
     "data": {
      "text/plain": [
       ":(x2 * (x3 * (x1 + x2)))"
      ]
     },
     "execution_count": 17,
     "metadata": {},
     "output_type": "execute_result"
    }
   ],
   "source": [
    "simplifyLogic(Meta.parse(\"((x1 + x2) * x3) * (x1 * 0 + x2 * 1)\"))"
   ]
  },
  {
   "cell_type": "code",
   "execution_count": 18,
   "id": "9ab3d61a-8fdc-4523-b47c-2ab60c57aa67",
   "metadata": {},
   "outputs": [
    {
     "data": {
      "text/plain": [
       "\"x2 * x3\""
      ]
     },
     "execution_count": 18,
     "metadata": {},
     "output_type": "execute_result"
    }
   ],
   "source": [
    "frm=\"((1 + x2) * x3) * x2\"\n",
    "ee = simplifyLogic(Meta.parse(frm))\n",
    "string(ee)"
   ]
  },
  {
   "cell_type": "code",
   "execution_count": 19,
   "id": "dd62a3b1-dfb4-46e3-8453-db4be74bc6b7",
   "metadata": {},
   "outputs": [
    {
     "data": {
      "text/plain": [
       "\"11010000\""
      ]
     },
     "execution_count": 19,
     "metadata": {},
     "output_type": "execute_result"
    }
   ],
   "source": [
    "    x = reverse(bitstring(UInt8(11)))"
   ]
  },
  {
   "cell_type": "code",
   "execution_count": 20,
   "id": "c7dfa966-abc2-42eb-aa92-73e796a0d946",
   "metadata": {},
   "outputs": [
    {
     "data": {
      "text/plain": [
       ":(~x1)"
      ]
     },
     "execution_count": 20,
     "metadata": {},
     "output_type": "execute_result"
    }
   ],
   "source": [
    "simplifyLogic(Meta.parse(\"x1 ⊕ 0 ⊕ x1 ⊕ 1 ⊕ x1\"))"
   ]
  },
  {
   "cell_type": "markdown",
   "id": "a54b89bf-0ea8-49cc-8446-b331898e5d20",
   "metadata": {},
   "source": [
    "### Operator Precedence: XOR lower than \"*\" (Both left associative)"
   ]
  },
  {
   "cell_type": "code",
   "execution_count": 21,
   "id": "91a7144d-5948-4bee-b9f1-469f888f0b18",
   "metadata": {},
   "outputs": [
    {
     "data": {
      "text/plain": [
       "1"
      ]
     },
     "execution_count": 21,
     "metadata": {},
     "output_type": "execute_result"
    }
   ],
   "source": [
    "simplifyLogic(Meta.parse(\"1 ⊕ 1 * 0\"))"
   ]
  },
  {
   "cell_type": "code",
   "execution_count": 22,
   "id": "5704181a-d7a9-4f8f-bc99-c7912530c60b",
   "metadata": {},
   "outputs": [
    {
     "data": {
      "text/plain": [
       "0"
      ]
     },
     "execution_count": 22,
     "metadata": {},
     "output_type": "execute_result"
    }
   ],
   "source": [
    "simplifyLogic(Meta.parse(\"(1 ⊕ 1) * 0\"))"
   ]
  },
  {
   "cell_type": "markdown",
   "id": "ed3a3d27-2863-4c01-9df1-5b39954f7790",
   "metadata": {},
   "source": [
    "### Operator Precedence: XOR same as \"+\" (Both left associative)"
   ]
  },
  {
   "cell_type": "markdown",
   "id": "fc0eed5e-a0fe-40cd-b68f-e42424fb46b9",
   "metadata": {},
   "source": [
    "#### Is \"+\" higher than XOR: NO"
   ]
  },
  {
   "cell_type": "code",
   "execution_count": 23,
   "id": "0ff579ae-0a3d-44e3-8eb8-ac887d76e287",
   "metadata": {},
   "outputs": [
    {
     "data": {
      "text/plain": [
       "1"
      ]
     },
     "execution_count": 23,
     "metadata": {},
     "output_type": "execute_result"
    }
   ],
   "source": [
    "simplifyLogic(Meta.parse(\"1 ⊕ 1 + 1\"))"
   ]
  },
  {
   "cell_type": "code",
   "execution_count": 24,
   "id": "7d7dae43-4984-4eae-b1b2-7a61f6a25ca9",
   "metadata": {},
   "outputs": [
    {
     "data": {
      "text/plain": [
       "0"
      ]
     },
     "execution_count": 24,
     "metadata": {},
     "output_type": "execute_result"
    }
   ],
   "source": [
    "simplifyLogic(Meta.parse(\"1 ⊕ (1 + 1)\"))"
   ]
  },
  {
   "cell_type": "markdown",
   "id": "f95d19a6-ba7b-446a-a873-42442b2ac1a1",
   "metadata": {},
   "source": [
    "#### Is XOR higher than \"+\": NO"
   ]
  },
  {
   "cell_type": "code",
   "execution_count": 25,
   "id": "6b127376-fc19-4b54-9f79-3ab129580a1c",
   "metadata": {},
   "outputs": [
    {
     "data": {
      "text/plain": [
       "0"
      ]
     },
     "execution_count": 25,
     "metadata": {},
     "output_type": "execute_result"
    }
   ],
   "source": [
    "simplifyLogic(Meta.parse(\"1 + 1 ⊕ 1\"))"
   ]
  },
  {
   "cell_type": "code",
   "execution_count": 26,
   "id": "ae8122ce-ab91-401a-a90a-fc196b99ea14",
   "metadata": {},
   "outputs": [
    {
     "data": {
      "text/plain": [
       "1"
      ]
     },
     "execution_count": 26,
     "metadata": {},
     "output_type": "execute_result"
    }
   ],
   "source": [
    "simplifyLogic(Meta.parse(\"1 + (1 ⊕ 1)\"))"
   ]
  },
  {
   "cell_type": "markdown",
   "id": "a5ae37d6-f7fb-4b29-98f1-a3ba43b2c74a",
   "metadata": {},
   "source": [
    "### Extending the Function nonZero\n",
    "For future improvement of the package. "
   ]
  },
  {
   "cell_type": "code",
   "execution_count": 27,
   "id": "930a5911-cec9-4954-b810-f833e6e60936",
   "metadata": {},
   "outputs": [
    {
     "name": "stdout",
     "output_type": "stream",
     "text": [
      "Dict(\"x5\" => \"x2\", \"x4\" => \"x1\")\n",
      "\tx = 00000\n",
      "00000000\n",
      "\tx = 10000\n",
      "10000000\n",
      "\tx = 01000\n",
      "eqn = x1 * ~x2\n",
      "BitMatrix\n",
      "(1, 0)\n",
      "\tx = 11000\n",
      "eqn = x1\n",
      "BitMatrix\n",
      "(1, 0)\n",
      "(1, 1)\n",
      "\tx = 00100\n",
      "00100000\n",
      "\tx = 10100\n",
      "10100000\n",
      "\tx = 01100\n",
      "eqn = ~x2\n",
      "BitMatrix\n",
      "(0, 0)\n",
      "(1, 0)\n",
      "\tx = 11100\n",
      "11100000\n"
     ]
    }
   ],
   "source": [
    "# Intension to take a formula and find inputs that return 1.\n",
    "form=\"(x1 + (x2 * ~x5)) * (x3 + x4) +  ~x2\"\n",
    "\n",
    "# Total number of variables.\n",
    "N=5\n",
    "NV=3\n",
    "\n",
    "# Init the logic system for (N-NV) variables.\n",
    "init_logic(N-NV)\n",
    "\n",
    "x = Vector{Int64}(undef, N)\n",
    "\n",
    "# For each of the first `NV` variables\n",
    "# loop through all values of `0` and `1`s.\n",
    "# For each set of NV values, substitute these into `form`\n",
    "# and then simply the formula.\n",
    "# Remap the variables that remain to 1 to (N-NV).\n",
    "\n",
    "d = Dict{String,String}()\n",
    "for i in (NV+1):N\n",
    "    d[\"x$i\"] = \"x$(i-NV)\"\n",
    "end\n",
    "\n",
    "println(d)\n",
    "\n",
    "for i in 0:(2^NV-1)\n",
    "    x = reverse(bitstring(UInt8(i)))\n",
    "    println(\"\\tx = $(x[1:N])\")\n",
    "    frm = form\n",
    "    firstBits = x[1:NV]\n",
    "    for j in 1:NV\n",
    "        frm = replace(frm, \"x$j\" => x[j])\n",
    "    end\n",
    "    \n",
    "    eqn = simplifyLogic(Meta.parse(frm))\n",
    "    if eqn == 0 || eqn == 1\n",
    "        if eqn == 1\n",
    "            println(x)\n",
    "        end\n",
    "    else\n",
    "        eqn = string(eqn)\n",
    "        # We need to convert the vars over to 1:(N-NV). FIXME\n",
    "        for k in keys(d)\n",
    "            eqn = replace(eqn, k => d[k])\n",
    "        end\n",
    "        println(\"eqn = $eqn\")\n",
    "        eqnb = create_bool_rep(string(eqn))\n",
    "        if logicCount(eqnb) != 0\n",
    "            res = nonZero(eqnb, head=5)\n",
    "            println(typeof(res))\n",
    "            print(string(res))\n",
    "        end\n",
    "    end\n",
    "end"
   ]
  },
  {
   "cell_type": "markdown",
   "id": "a11437d7-0d6a-43c4-9cfb-d6bacf78bef9",
   "metadata": {},
   "source": [
    "### Work with bfunc Macro"
   ]
  },
  {
   "cell_type": "code",
   "execution_count": 28,
   "id": "cd2cdbf7-ee78-4114-a8f3-70f120816a6f",
   "metadata": {},
   "outputs": [
    {
     "data": {
      "text/plain": [
       "Formula    = x1  +  x2  *  x3\n",
       "Variable   = x\n",
       "Size       = 3\n",
       "Bit vector = Bool[0, 1, 0, 1, 0, 1, 1, 1]\n"
      ]
     },
     "execution_count": 28,
     "metadata": {},
     "output_type": "execute_result"
    }
   ],
   "source": [
    "@bfunc x1 + x2 * x3"
   ]
  },
  {
   "cell_type": "code",
   "execution_count": 30,
   "id": "b121c416-c311-4ab3-906d-12585545a65f",
   "metadata": {},
   "outputs": [
    {
     "data": {
      "text/plain": [
       "Formula    = (z1  +  z2)  *  z3  ⟹  z4  +  z5\n",
       "Variable   = z\n",
       "Size       = 5\n",
       "Bit vector = Bool[1, 1, 1, 1, 1, 0, 0, 0, 1, 1  …  1, 1, 1, 1, 1, 1, 1, 1, 1, 1]\n"
      ]
     },
     "execution_count": 30,
     "metadata": {},
     "output_type": "execute_result"
    }
   ],
   "source": [
    "@bfunc begin\n",
    "    (z1 + z2) * z3\n",
    "    ⟹ \n",
    "    z4 + z5\n",
    "end"
   ]
  },
  {
   "cell_type": "code",
   "execution_count": 32,
   "id": "e0ca3630-b2cc-4a23-a737-8b477d1ea66f",
   "metadata": {},
   "outputs": [
    {
     "data": {
      "text/plain": [
       ":((z1 + x2) * z3 ⟹ z4 + z5)"
      ]
     },
     "execution_count": 32,
     "metadata": {},
     "output_type": "execute_result"
    }
   ],
   "source": [
    "ex = Meta.parse(\"(z1 + x2) * z3 ⟹ z4 + z5\")"
   ]
  },
  {
   "cell_type": "code",
   "execution_count": 33,
   "id": "fe892c76-642a-4c14-893f-80d6c35cd8c5",
   "metadata": {},
   "outputs": [
    {
     "data": {
      "text/plain": [
       ":call"
      ]
     },
     "execution_count": 33,
     "metadata": {},
     "output_type": "execute_result"
    }
   ],
   "source": [
    "ex.head"
   ]
  },
  {
   "cell_type": "code",
   "execution_count": 34,
   "id": "8bf5386f-e043-473e-9369-b4ddc7f4e071",
   "metadata": {},
   "outputs": [
    {
     "data": {
      "text/plain": [
       "3-element Vector{Any}:\n",
       " :⟹\n",
       " :((z1 + x2) * z3)\n",
       " :(z4 + z5)"
      ]
     },
     "execution_count": 34,
     "metadata": {},
     "output_type": "execute_result"
    }
   ],
   "source": [
    "ex.args"
   ]
  },
  {
   "cell_type": "code",
   "execution_count": 36,
   "id": "9b428e80-a39a-4c20-9722-3cd33bdd5aba",
   "metadata": {},
   "outputs": [
    {
     "data": {
      "text/plain": [
       "3-element Vector{Any}:\n",
       " :*\n",
       " :(z1 + x2)\n",
       " :z3"
      ]
     },
     "execution_count": 36,
     "metadata": {},
     "output_type": "execute_result"
    }
   ],
   "source": [
    "ex.args[2].args"
   ]
  },
  {
   "cell_type": "code",
   "execution_count": 38,
   "id": "90269689-4903-4708-833c-9df5a1754a28",
   "metadata": {},
   "outputs": [
    {
     "data": {
      "text/plain": [
       "Formula    = x1  +  x2  ⟹  x3\n",
       "Variable   = x\n",
       "Size       = 3\n",
       "Bit vector = Bool[1, 0, 0, 0, 1, 1, 1, 1]\n"
      ]
     },
     "execution_count": 38,
     "metadata": {},
     "output_type": "execute_result"
    }
   ],
   "source": [
    "f = @bfunc x1 + x2 ⟹ x3"
   ]
  },
  {
   "cell_type": "code",
   "execution_count": 39,
   "id": "227d7788-24e3-45a5-8759-dd69150e00b0",
   "metadata": {},
   "outputs": [
    {
     "data": {
      "text/plain": [
       "8-element BitVector:\n",
       " 1\n",
       " 0\n",
       " 0\n",
       " 0\n",
       " 1\n",
       " 1\n",
       " 1\n",
       " 1"
      ]
     },
     "execution_count": 39,
     "metadata": {},
     "output_type": "execute_result"
    }
   ],
   "source": [
    "f.val"
   ]
  },
  {
   "cell_type": "code",
   "execution_count": 40,
   "id": "7c75a561-5efc-4eef-9f1a-0ea62b648030",
   "metadata": {},
   "outputs": [
    {
     "data": {
      "text/plain": [
       "Formula    = x1  +  x2  ⟹  x2  *  x3\n",
       "Variable   = x\n",
       "Size       = 3\n",
       "Bit vector = Bool[1, 0, 0, 0, 1, 0, 1, 1]\n"
      ]
     },
     "execution_count": 40,
     "metadata": {},
     "output_type": "execute_result"
    }
   ],
   "source": [
    "f = @bfunc begin\n",
    "    x1 + x2\n",
    "    ⟹\n",
    "    x2 * x3\n",
    "end"
   ]
  },
  {
   "cell_type": "code",
   "execution_count": 41,
   "id": "0a00dd24-80ed-48a3-95bb-ba466907205e",
   "metadata": {},
   "outputs": [
    {
     "data": {
      "text/plain": [
       "Formula    = (x1  +  x2)  *  x3\n",
       "Variable   = x\n",
       "Size       = 3\n",
       "Bit vector = Bool[0, 0, 0, 0, 0, 1, 1, 1]\n"
      ]
     },
     "execution_count": 41,
     "metadata": {},
     "output_type": "execute_result"
    }
   ],
   "source": [
    "@bfunc (x1 + x2) * x3"
   ]
  },
  {
   "cell_type": "code",
   "execution_count": 42,
   "id": "67f034e2-0f2c-42e8-8d47-a7a125ac60ba",
   "metadata": {},
   "outputs": [
    {
     "data": {
      "text/plain": [
       "Formula    = x1  +  x2  *  x2  +  x3\n",
       "Variable   = x\n",
       "Size       = 3\n",
       "Bit vector = Bool[0, 1, 1, 1, 1, 1, 1, 1]\n"
      ]
     },
     "execution_count": 42,
     "metadata": {},
     "output_type": "execute_result"
    }
   ],
   "source": [
    "@bfunc x1 + x2 * x2 + x3"
   ]
  },
  {
   "cell_type": "code",
   "execution_count": null,
   "id": "4fd401da-78ce-4a6f-a757-0f67fcb4f4a5",
   "metadata": {},
   "outputs": [],
   "source": []
  }
 ],
 "metadata": {
  "kernelspec": {
   "display_name": "Julia 1.10.0",
   "language": "julia",
   "name": "julia-1.10"
  },
  "language_info": {
   "file_extension": ".jl",
   "mimetype": "application/julia",
   "name": "julia",
   "version": "1.10.2"
  }
 },
 "nbformat": 4,
 "nbformat_minor": 5
}
